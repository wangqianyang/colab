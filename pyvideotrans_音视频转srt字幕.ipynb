{
  "nbformat": 4,
  "nbformat_minor": 0,
  "metadata": {
    "colab": {
      "provenance": [],
      "gpuType": "T4",
      "include_colab_link": true
    },
    "kernelspec": {
      "name": "python3",
      "display_name": "Python 3"
    },
    "language_info": {
      "name": "python"
    },
    "accelerator": "GPU"
  },
  "cells": [
    {
      "cell_type": "markdown",
      "metadata": {
        "id": "view-in-github",
        "colab_type": "text"
      },
      "source": [
        "<a href=\"https://colab.research.google.com/github/wangqianyang/colab/blob/main/pyvideotrans_%E9%9F%B3%E8%A7%86%E9%A2%91%E8%BD%ACsrt%E5%AD%97%E5%B9%95.ipynb\" target=\"_parent\"><img src=\"https://colab.research.google.com/assets/colab-badge.svg\" alt=\"Open In Colab\"/></a>"
      ]
    },
    {
      "cell_type": "code",
      "source": [
        "# 第 1 步： 创建工作目录并安装依赖\n",
        "# 源码和cli.py所在目录\n",
        "WORK_DIR=\"/content/pyvideotrans\"\n",
        "!mkdir $WORK_DIR\n",
        "\n",
        "# 进入工作目录\n",
        "%cd $WORK_DIR\n",
        "\n",
        "# 更新源\n",
        "!apt update\n",
        "#安装ffmpeg\n",
        "!apt install ffmpeg wget curl\n",
        "# 查看ffmpeg版本信息\n",
        "!ffmpeg -version\n",
        "\n",
        "\n",
        "#从github拉取源码 到工作目录下，最后有一个 .\n",
        "!git clone https://github.com/jianchang512/pyvideotrans .\n",
        "\n",
        "# 安装依赖\n",
        "!pip3 install -r requirements-colab.txt"
      ],
      "metadata": {
        "id": "p3ffgZR5TC4b"
      },
      "execution_count": null,
      "outputs": []
    },
    {
      "cell_type": "code",
      "source": [
        "# 第 2 步：查看是否支持 CUDA 和 cuDNN\n",
        "import torch\n",
        "if torch.cuda.is_available():\n",
        "  print('支持CUDA')\n",
        "  if torch.backends.cudnn.is_available():\n",
        "    print('支持cuDNN')\n",
        "  else:\n",
        "    print('不支持cuDNN，大部分工作将使用CPU计算，较慢')\n",
        "else:\n",
        "  print('不支持CUDA，将使用CPU计算，速度较慢')\n",
        "\n"
      ],
      "metadata": {
        "id": "UZEPBPF4ooSV"
      },
      "execution_count": null,
      "outputs": []
    },
    {
      "cell_type": "code",
      "source": [
        "# 第 3 步：执行音视频转录为srt字幕操作\n",
        "%cd /content/pyvideotrans\n",
        "\n",
        "# 命令使用说明\n",
        "# 固定开头命令为: !python3 cli.py\n",
        "# --model 后接空格， 然后是模型名字，模型名字从这些中选择一个，默认larg-v2，效果最佳\n",
        "#     tiny  tiny.en base base.en small small.en medium medium.en large-v1 large-v2 large-v3 large-v3-turbo\n",
        "#\n",
        "# --language 后接空格，然后是音视频中发音语言代码，如果不确定是什么语言，可填写 auto\n",
        "#    语言代码从中选择: zh,en,ja,ko,ru,fr,de,es,it,pt,nl,hi,hu,sv,ar,he,cs,vi,tr,th,id,ms,kk,bn\n",
        "#\n",
        "# --file 后接空格，然后是英文双引号包括起来的音视频绝对路径，可直接拖拽音视频文件，然后复制路径\n",
        "#\n",
        "# 示例\n",
        "#\n",
        "# 指定使用 large-v2 模型，语言为简体中文，视频为 1.mp4\n",
        "# !python3 cli.py --model large-v2 --language zh --file \"/content/1.mp4\"\n",
        "# 指定使用 large-v3-turbo模型，语言自动检测，视频为 1.mp4\n",
        "# !python3 cli.py --model large-v3-turbo --file \"/content/1.mp4\"\n",
        "\n",
        "!python3 cli.py --model large-v2  --file \"在此粘贴上传的音视频绝对路径\""
      ],
      "metadata": {
        "id": "tIokz4Hgpclo"
      },
      "execution_count": null,
      "outputs": []
    },
    {
      "cell_type": "code",
      "source": [
        "!cd /content/pyvideotrans && python3 testcuda.py"
      ],
      "metadata": {
        "id": "GCUE55TYk0eV"
      },
      "execution_count": null,
      "outputs": []
    },
    {
      "cell_type": "code",
      "source": [
        "!ffmpeg -hide_banner -ignore_unknown -y -y -i /content/pyvideotrans/videotrans/styles/no-remove.mp4 -c:v h264_nvenc -c:a aac -cq 13 -preset p1 ceshi.mp4"
      ],
      "metadata": {
        "id": "JvAYlXBKqIab"
      },
      "execution_count": null,
      "outputs": []
    }
  ]
}