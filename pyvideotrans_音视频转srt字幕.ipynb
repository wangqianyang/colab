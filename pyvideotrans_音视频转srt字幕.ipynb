{
  "nbformat": 4,
  "nbformat_minor": 0,
  "metadata": {
    "colab": {
      "provenance": [],
      "gpuType": "T4",
      "include_colab_link": true
    },
    "kernelspec": {
      "name": "python3",
      "display_name": "Python 3"
    },
    "language_info": {
      "name": "python"
    },
    "accelerator": "GPU"
  },
  "cells": [
    {
      "cell_type": "markdown",
      "metadata": {
        "id": "view-in-github",
        "colab_type": "text"
      },
      "source": [
        "<a href=\"https://colab.research.google.com/github/wangqianyang/colab/blob/main/pyvideotrans_%E9%9F%B3%E8%A7%86%E9%A2%91%E8%BD%ACsrt%E5%AD%97%E5%B9%95.ipynb\" target=\"_parent\"><img src=\"https://colab.research.google.com/assets/colab-badge.svg\" alt=\"Open In Colab\"/></a>"
      ]
    },
    {
      "cell_type": "code",
      "source": [
        "# 第 1 步： 创建工作目录并安装依赖\n",
        "# 源码和cli.py所在目录\n",
        "WORK_DIR=\"/content/pyvideotrans\"\n",
        "!mkdir $WORK_DIR\n",
        "\n",
        "# 进入工作目录\n",
        "%cd $WORK_DIR\n",
        "\n",
        "# 更新源\n",
        "!apt update\n",
        "#安装ffmpeg\n",
        "!apt install ffmpeg wget curl\n",
        "# 查看ffmpeg版本信息\n",
        "!ffmpeg -version\n",
        "\n",
        "\n",
        "#从github拉取源码 到工作目录下，最后有一个 .\n",
        "!git clone https://github.com/jianchang512/pyvideotrans .\n",
        "\n",
        "# 安装依赖\n",
        "!pip3 install -r requirements-colab.txt"
      ],
      "metadata": {
        "id": "p3ffgZR5TC4b"
      },
      "execution_count": null,
      "outputs": []
    },
    {
      "cell_type": "code",
      "source": [
        "# 第 2 步：查看是否支持 CUDA 和 cuDNN\n",
        "import torch\n",
        "if torch.cuda.is_available():\n",
        "  print('支持CUDA')\n",
        "  if torch.backends.cudnn.is_available():\n",
        "    print('支持cuDNN')\n",
        "  else:\n",
        "    print('不支持cuDNN，大部分工作将使用CPU计算，较慢')\n",
        "else:\n",
        "  print('不支持CUDA，将使用CPU计算，速度较慢')\n",
        "\n"
      ],
      "metadata": {
        "id": "UZEPBPF4ooSV",
        "colab": {
          "base_uri": "https://localhost:8080/"
        },
        "outputId": "3134671b-a2da-4cb8-b0c6-bff4f505dbd6"
      },
      "execution_count": null,
      "outputs": [
        {
          "output_type": "stream",
          "name": "stdout",
          "text": [
            "支持CUDA\n",
            "支持cuDNN\n"
          ]
        }
      ]
    },
    {
      "cell_type": "code",
      "source": [
        "# 第 3 步：执行音视频转录为srt字幕操作\n",
        "%cd /content/pyvideotrans\n",
        "\n",
        "# 命令使用说明\n",
        "# 固定开头命令为: !python3 cli.py\n",
        "# --model 后接空格， 然后是模型名字，模型名字从这些中选择一个，默认larg-v2，效果最佳\n",
        "#     tiny  tiny.en base base.en small small.en medium medium.en large-v1 large-v2 large-v3 large-v3-turbo\n",
        "#\n",
        "# --language 后接空格，然后是音视频中发音语言代码，如果不确定是什么语言，可填写 auto\n",
        "#    语言代码从中选择: zh,en,ja,ko,ru,fr,de,es,it,pt,nl,hi,hu,sv,ar,he,cs,vi,tr,th,id,ms,kk,bn\n",
        "#\n",
        "# --file 后接空格，然后是英文双引号包括起来的音视频绝对路径，可直接拖拽音视频文件，然后复制路径\n",
        "#\n",
        "# 示例\n",
        "#\n",
        "# 指定使用 large-v2 模型，语言为简体中文，视频为 1.mp4\n",
        "# !python3 cli.py --model large-v2 --language zh --file \"/content/1.mp4\"\n",
        "# 指定使用 large-v3-turbo模型，语言自动检测，视频为 1.mp4\n",
        "# !python3 cli.py --model large-v3-turbo --file \"/content/1.mp4\"\n",
        "\n",
        "!python3 cli.py --model large-v2  --file \"在此粘贴上传的音视频绝对路径\""
      ],
      "metadata": {
        "id": "tIokz4Hgpclo"
      },
      "execution_count": null,
      "outputs": []
    },
    {
      "cell_type": "code",
      "source": [
        "!cd /content/pyvideotrans && python3 testcuda.py"
      ],
      "metadata": {
        "id": "GCUE55TYk0eV"
      },
      "execution_count": null,
      "outputs": []
    },
    {
      "cell_type": "code",
      "source": [
        "!ffmpeg -hide_banner -ignore_unknown -y -y -i /content/pyvideotrans/videotrans/styles/no-remove.mp4 -c:v h264_nvenc -c:a aac -cq 13 -preset p1 ceshi.mp4"
      ],
      "metadata": {
        "colab": {
          "base_uri": "https://localhost:8080/"
        },
        "id": "JvAYlXBKqIab",
        "outputId": "90fe68b1-2824-43ee-8b2b-1cf3c159cd32"
      },
      "execution_count": null,
      "outputs": [
        {
          "output_type": "stream",
          "name": "stdout",
          "text": [
            "Input #0, mov,mp4,m4a,3gp,3g2,mj2, from '/content/pyvideotrans/videotrans/styles/no-remove.mp4':\n",
            "  Metadata:\n",
            "    major_brand     : isom\n",
            "    minor_version   : 512\n",
            "    compatible_brands: isomiso2avc1mp41\n",
            "    encoder         : Lavf60.13.100\n",
            "  Duration: 00:00:02.00, start: 0.000000, bitrate: 341 kb/s\n",
            "  Stream #0:0(und): Video: h264 (High) (avc1 / 0x31637661), yuv420p, 512x288 [SAR 1:1 DAR 16:9], 192 kb/s, 29.97 fps, 29.97 tbr, 30k tbn, 59.94 tbc (default)\n",
            "    Metadata:\n",
            "      handler_name    : VideoHandler\n",
            "      vendor_id       : [0][0][0][0]\n",
            "      encoder         : Lavc60.27.100 libx264\n",
            "  Stream #0:1(und): Audio: aac (LC) (mp4a / 0x6134706D), 44100 Hz, stereo, fltp, 134 kb/s (default)\n",
            "    Metadata:\n",
            "      handler_name    : SoundHandler\n",
            "      vendor_id       : [0][0][0][0]\n",
            "Stream mapping:\n",
            "  Stream #0:0 -> #0:0 (h264 (native) -> h264 (h264_nvenc))\n",
            "  Stream #0:1 -> #0:1 (aac (native) -> aac (native))\n",
            "Press [q] to stop, [?] for help\n",
            "Output #0, mp4, to 'ceshi.mp4':\n",
            "  Metadata:\n",
            "    major_brand     : isom\n",
            "    minor_version   : 512\n",
            "    compatible_brands: isomiso2avc1mp41\n",
            "    encoder         : Lavf58.76.100\n",
            "  Stream #0:0(und): Video: h264 (Main) (avc1 / 0x31637661), yuv420p(progressive), 512x288 [SAR 1:1 DAR 16:9], q=2-31, 29.97 fps, 30k tbn (default)\n",
            "    Metadata:\n",
            "      handler_name    : VideoHandler\n",
            "      vendor_id       : [0][0][0][0]\n",
            "      encoder         : Lavc58.134.100 h264_nvenc\n",
            "    Side data:\n",
            "      cpb: bitrate max/min/avg: 0/0/0 buffer size: 4000000 vbv_delay: N/A\n",
            "  Stream #0:1(und): Audio: aac (LC) (mp4a / 0x6134706D), 44100 Hz, stereo, fltp, 128 kb/s (default)\n",
            "    Metadata:\n",
            "      handler_name    : SoundHandler\n",
            "      vendor_id       : [0][0][0][0]\n",
            "      encoder         : Lavc58.134.100 aac\n",
            "frame=   60 fps=0.0 q=6.0 Lsize=     540kB time=00:00:01.99 bitrate=2216.9kbits/s speed=10.4x    \n",
            "video:502kB audio:35kB subtitle:0kB other streams:0kB global headers:0kB muxing overhead: 0.568107%\n",
            "\u001b[1;36m[aac @ 0x593789e00e40] \u001b[0mQavg: 3868.655\n"
          ]
        }
      ]
    }
  ]
}