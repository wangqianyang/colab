{
  "cells": [
    {
      "cell_type": "markdown",
      "metadata": {
        "id": "view-in-github",
        "colab_type": "text"
      },
      "source": [
        "<a href=\"https://colab.research.google.com/github/wangqianyang/colab/blob/main/my_torrent.ipynb\" target=\"_parent\"><img src=\"https://colab.research.google.com/assets/colab-badge.svg\" alt=\"Open In Colab\"/></a>"
      ]
    },
    {
      "cell_type": "markdown",
      "metadata": {
        "id": "Be3iKZ4FZ1LV"
      },
      "source": [
        "### Install dependencies"
      ]
    },
    {
      "cell_type": "code",
      "source": [
        "# 使用3.11的版本\n",
        "!python --version"
      ],
      "metadata": {
        "colab": {
          "base_uri": "https://localhost:8080/"
        },
        "id": "PFj6Z2B-q2oI",
        "outputId": "26256194-ddd8-454e-f51d-cbc94e4893ea"
      },
      "execution_count": 1,
      "outputs": [
        {
          "output_type": "stream",
          "name": "stdout",
          "text": [
            "Python 3.12.11\n"
          ]
        }
      ]
    },
    {
      "cell_type": "code",
      "source": [
        "from google.colab import drive\n",
        "drive.mount('/content/drive')"
      ],
      "metadata": {
        "colab": {
          "base_uri": "https://localhost:8080/"
        },
        "id": "w7LS8EQquSNS",
        "outputId": "a7e47a54-7f41-4fdd-e1de-5c09ba0b18df"
      },
      "execution_count": 2,
      "outputs": [
        {
          "output_type": "stream",
          "name": "stdout",
          "text": [
            "Mounted at /content/drive\n"
          ]
        }
      ]
    },
    {
      "cell_type": "code",
      "execution_count": 8,
      "metadata": {
        "id": "qEPL7qdkaAoG",
        "colab": {
          "base_uri": "https://localhost:8080/"
        },
        "outputId": "ead163bd-0515-45fd-bf1a-be43255b101b"
      },
      "outputs": [
        {
          "output_type": "stream",
          "name": "stdout",
          "text": [
            "Requirement already satisfied: pip in /usr/local/lib/python3.12/dist-packages (25.2)\n",
            "Requirement already satisfied: setuptools in /usr/local/lib/python3.12/dist-packages (80.9.0)\n",
            "Requirement already satisfied: wheel in /usr/local/lib/python3.12/dist-packages (0.45.1)\n",
            "Collecting jedi\n",
            "  Downloading jedi-0.19.2-py2.py3-none-any.whl.metadata (22 kB)\n",
            "Requirement already satisfied: libtorrent in /usr/local/lib/python3.12/dist-packages (2.0.11)\n",
            "Requirement already satisfied: wget in /usr/local/lib/python3.12/dist-packages (3.2)\n",
            "Requirement already satisfied: torf in /usr/local/lib/python3.12/dist-packages (4.3.0)\n",
            "Requirement already satisfied: parso<0.9.0,>=0.8.4 in /usr/local/lib/python3.12/dist-packages (from jedi) (0.8.5)\n",
            "Requirement already satisfied: flatbencode==0.2.* in /usr/local/lib/python3.12/dist-packages (from torf) (0.2.1)\n",
            "Downloading jedi-0.19.2-py2.py3-none-any.whl (1.6 MB)\n",
            "\u001b[2K   \u001b[90m━━━━━━━━━━━━━━━━━━━━━━━━━━━━━━━━━━━━━━━━\u001b[0m \u001b[32m1.6/1.6 MB\u001b[0m \u001b[31m29.7 MB/s\u001b[0m  \u001b[33m0:00:00\u001b[0m\n",
            "\u001b[?25hInstalling collected packages: jedi\n",
            "Successfully installed jedi-0.19.2\n",
            "Reading package lists... Done\n",
            "Building dependency tree... Done\n",
            "Reading state information... Done\n",
            "python3-libtorrent is already the newest version (2.0.5-5).\n",
            "0 upgraded, 0 newly installed, 0 to remove and 35 not upgraded.\n"
          ]
        }
      ],
      "source": [
        "#!python -m pip install --upgrade pip setuptools wheel && python -m pip install lbry-libtorrent wget torf && apt install python3-libtorrent\n",
        "#!python -m pip install jedi\n",
        "!python -m pip install --upgrade pip setuptools wheel && python -m pip install jedi libtorrent wget torf && apt install python3-libtorrent"
      ]
    },
    {
      "cell_type": "code",
      "source": [
        "import libtorrent as lt\n",
        "# 测试一下\n",
        "print(f\"成功导入 libtorrent 版本: {lt.version}\")"
      ],
      "metadata": {
        "id": "0g0EpxWdQX4P",
        "colab": {
          "base_uri": "https://localhost:8080/"
        },
        "outputId": "ebf184ad-9dd8-4431-f70b-43082f944710"
      },
      "execution_count": 4,
      "outputs": [
        {
          "output_type": "stream",
          "name": "stdout",
          "text": [
            "成功导入 libtorrent 版本: 2.0.11.0\n"
          ]
        }
      ]
    },
    {
      "cell_type": "markdown",
      "source": [
        "## 下载磁力链接"
      ],
      "metadata": {
        "id": "tNeOd3sR8Ubz"
      }
    },
    {
      "cell_type": "code",
      "source": [
        "import libtorrent as lt\n",
        "import time\n",
        "import sys\n",
        "\n",
        "# 创建一个 libtorrent 会话\n",
        "ses = lt.session({'listen_interfaces': '0.0.0.0:6881'})\n",
        "\n",
        "# 在这里输入您的磁力链接\n",
        "#magnet_link = \"magnet:?xt=urn:btih:...\"\n",
        "magnet_link = input(\"请输入您的磁力链接地址，并按回车键: \")\n",
        "\n",
        "# 设置下载参数\n",
        "params = lt.parse_magnet_uri(magnet_link)\n",
        "params.save_path = '/content/drive/Shareddrives/shareDrives/download'  # 设置文件保存路径\n",
        "h = ses.add_torrent(params)\n",
        "s = h.status()\n",
        "\n",
        "print(f\"开始下载: {s.name}\")\n",
        "\n",
        "try:\n",
        "    while not h.status().is_seeding:\n",
        "        s = h.status()\n",
        "        state_str = [\n",
        "            '排队中', '检查文件中', '下载元数据中',\n",
        "            '下载中', '完成', '做种中', '分配空间',\n",
        "            '检查恢复数据'\n",
        "        ]\n",
        "\n",
        "        # 格式化进度输出\n",
        "        progress_bar = '[' + '#' * int(s.progress * 20) + '-' * (20 - int(s.progress * 20)) + ']'\n",
        "\n",
        "        print(\n",
        "            f\"\\r{state_str[s.state]} {s.progress * 100:.2f}% \"\n",
        "            f\"{progress_bar} \"\n",
        "            f\"下载速度: {s.download_rate / 1000:.1f} kB/s | \"\n",
        "            f\"上传速度: {s.upload_rate / 1000:.1f} kB/s | \"\n",
        "            f\"连接节点: {s.num_peers} \",\n",
        "            end=''\n",
        "        )\n",
        "\n",
        "        # 处理会话提醒\n",
        "        alerts = ses.pop_alerts()\n",
        "        for alert in alerts:\n",
        "            if isinstance(alert, lt.metadata_received_alert):\n",
        "                print(\"\\n元数据接收完成，开始下载文件...\")\n",
        "            # 您可以在此处添加更多提醒处理逻辑\n",
        "            # pass\n",
        "\n",
        "        sys.stdout.flush()\n",
        "        time.sleep(1)\n",
        "\n",
        "\n",
        "    print(\"\\n\\n下载完成，开始做种...\")\n",
        "    # 让其做种一段时间，或者您可以直接按 Ctrl+C 退出\n",
        "    time.sleep(10)\n",
        "\n",
        "\n",
        "except KeyboardInterrupt:\n",
        "    print(\"\\n下载被中断。\")\n",
        "\n",
        "finally:\n",
        "    # 暂停会话并保存恢复数据\n",
        "    ses.pause()\n",
        "    print(\"\\n会话已暂停。\")"
      ],
      "metadata": {
        "colab": {
          "base_uri": "https://localhost:8080/"
        },
        "id": "qRm_PDJO8Ac5",
        "outputId": "232092a4-0b36-4522-d6bc-5998a67b604f"
      },
      "execution_count": 7,
      "outputs": [
        {
          "output_type": "stream",
          "name": "stdout",
          "text": [
            "请输入您的磁力链接地址，并按回车键: magnet:?xt=urn:btih:38DD4FE0CCB32BF7BE4102DB10D181C42B671228&dn=Come+Home+%282023%29+%5B1080p%5D+%5BYTS.MX%5D&tr=udp%3A%2F%2Ftracker.opentrackr.org%3A1337%2Fannounce&tr=udp%3A%2F%2Fopen.tracker.cl%3A1337%2Fannounce&tr=udp%3A%2F%2Fp4p.arenabg.com%3A1337%2Fannounce&tr=udp%3A%2F%2Ftracker.torrent.eu.org%3A451%2Fannounce&tr=udp%3A%2F%2Ftracker.dler.org%3A6969%2Fannounce&tr=udp%3A%2F%2Fopen.stealth.si%3A80%2Fannounce&tr=udp%3A%2F%2Fipv4.tracker.harry.lu%3A80%2Fannounce&tr=https%3A%2F%2Fopentracker.i2p.rocks%3A443%2Fannounce\n",
            "开始下载: Come Home (2023) [1080p] [YTS.MX]\n",
            "下载中 99.99% [###################-] 下载速度: 866.9 kB/s | 上传速度: 121.5 kB/s | 连接节点: 37 \n",
            "\n",
            "下载完成，开始做种...\n",
            "\n",
            "会话已暂停。\n"
          ]
        }
      ]
    },
    {
      "cell_type": "markdown",
      "source": [
        "## 使用BT种子文件（.torrent）下载"
      ],
      "metadata": {
        "id": "bZDernVmAsp9"
      }
    },
    {
      "cell_type": "code",
      "source": [
        "import libtorrent as lt\n",
        "import time\n",
        "import sys\n",
        "import os\n",
        "from google.colab import files # 导入colab的files模块\n",
        "\n",
        "\n",
        "# --- Section 1: 用户上传种子文件 ---\n",
        "print(\"请选择一个 .torrent 种子文件进行上传：\")\n",
        "uploaded = files.upload()\n",
        "\n",
        "if not uploaded:\n",
        "    print(\"\\n没有上传文件，程序退出。\")\n",
        "    sys.exit()\n",
        "\n",
        "# 获取上传的第一个文件的文件名\n",
        "# 假设用户只上传一个种子文件\n",
        "TORRENT_FILE_PATH = list(uploaded.keys())[0]\n",
        "\n",
        "# 将内存中的文件内容写入到Colab的磁盘上\n",
        "with open(TORRENT_FILE_PATH, 'wb') as f:\n",
        "    f.write(uploaded[TORRENT_FILE_PATH])\n",
        "\n",
        "print(f\"\\n'{TORRENT_FILE_PATH}' 已准备就绪，开始下载任务...\")\n",
        "time.sleep(2) # 等待2秒，让用户看清信息\n",
        "\n",
        "\n",
        "\n",
        "# --- Section 2: libtorrent 下载代码  ---\n",
        "# 设置文件下载后保存的路径\n",
        "SAVE_PATH = '/content/drive/Shareddrives/shareDrives/download'\n",
        "\n",
        "# 检查种子文件是否存在\n",
        "if not os.path.exists(TORRENT_FILE_PATH):\n",
        "    print(f\"错误: 种子文件未找到 '{TORRENT_FILE_PATH}'\")\n",
        "    sys.exit(1)\n",
        "\n",
        "# 1. 创建一个 libtorrent 会话\n",
        "ses = lt.session({'listen_interfaces': '0.0.0.0:6881'})\n",
        "print(\"启动 libtorrent 会话...\")\n",
        "\n",
        "# 2. 加载种子文件并设置下载参数\n",
        "params = {\n",
        "    'save_path': SAVE_PATH,\n",
        "    'storage_mode': lt.storage_mode_t.storage_mode_sparse,\n",
        "}\n",
        "# 从种子文件加载信息\n",
        "info = lt.torrent_info(TORRENT_FILE_PATH)\n",
        "params['ti'] = info\n",
        "h = ses.add_torrent(params)\n",
        "\n",
        "print(f\"开始下载: {info.name()}\")\n",
        "print(f\"文件将保存在: {os.path.abspath(SAVE_PATH)}\")\n",
        "\n",
        "\n",
        "# 3. 循环监控下载进度\n",
        "try:\n",
        "    while not h.status().is_seeding:\n",
        "        s = h.status()\n",
        "\n",
        "        # 状态描述映射\n",
        "        state_str = [\n",
        "            '排队中', '检查文件中', '下载元数据中',\n",
        "            '下载中', '完成', '做种中',\n",
        "            '分配空间', '检查恢复数据'\n",
        "        ]\n",
        "\n",
        "        # 构造进度条\n",
        "        progress_bar = '[' + '#' * int(s.progress * 20) + ' ' * (20 - int(s.progress * 20)) + ']'\n",
        "\n",
        "        # 格式化输出字符串\n",
        "        print(\n",
        "            f\"\\r{state_str[s.state]:<12} \"\n",
        "            f\"{s.progress * 100:.2f}% \"\n",
        "            f\"{progress_bar} \"\n",
        "            f\"下载: {s.download_rate / 1000:.1f} kB/s | \"\n",
        "            f\"上传: {s.upload_rate / 1000:.1f} kB/s | \"\n",
        "            f\"连接数: {s.num_peers} \",\n",
        "            end=''\n",
        "        )\n",
        "\n",
        "        sys.stdout.flush()\n",
        "        time.sleep(1)\n",
        "\n",
        "    print(\"\\n\\n下载完成，开始做种...\")\n",
        "    # 让其做种一段时间，或者您可以直接按 Ctrl+C 退出\n",
        "    time.sleep(10)\n",
        "\n",
        "\n",
        "except KeyboardInterrupt:\n",
        "    print(\"\\n\\n下载被用户中断。\")\n",
        "\n",
        "finally:\n",
        "    # 4. 暂停会话并保存恢复数据\n",
        "    ses.pause()\n",
        "    print(\"会话已暂停。\")"
      ],
      "metadata": {
        "id": "QbRFlLUFAziY"
      },
      "execution_count": null,
      "outputs": []
    }
  ],
  "metadata": {
    "colab": {
      "provenance": [],
      "include_colab_link": true
    },
    "kernelspec": {
      "display_name": "Python 3",
      "name": "python3"
    },
    "language_info": {
      "name": "python"
    }
  },
  "nbformat": 4,
  "nbformat_minor": 0
}