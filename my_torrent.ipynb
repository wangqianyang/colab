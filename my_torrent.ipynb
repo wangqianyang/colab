{
  "cells": [
    {
      "cell_type": "markdown",
      "metadata": {
        "id": "view-in-github",
        "colab_type": "text"
      },
      "source": [
        "<a href=\"https://colab.research.google.com/github/wangqianyang/colab/blob/main/my_torrent.ipynb\" target=\"_parent\"><img src=\"https://colab.research.google.com/assets/colab-badge.svg\" alt=\"Open In Colab\"/></a>"
      ]
    },
    {
      "cell_type": "markdown",
      "metadata": {
        "id": "Be3iKZ4FZ1LV"
      },
      "source": [
        "### Install dependencies"
      ]
    },
    {
      "cell_type": "code",
      "source": [
        "# 使用3.11的版本\n",
        "!python --version"
      ],
      "metadata": {
        "colab": {
          "base_uri": "https://localhost:8080/"
        },
        "id": "PFj6Z2B-q2oI",
        "outputId": "c435475b-3fda-4390-fb35-b1afb36dbcb4"
      },
      "execution_count": 2,
      "outputs": [
        {
          "output_type": "stream",
          "name": "stdout",
          "text": [
            "Python 3.11.13\n"
          ]
        }
      ]
    },
    {
      "cell_type": "code",
      "source": [
        "from google.colab import drive\n",
        "drive.mount('/content/drive')"
      ],
      "metadata": {
        "colab": {
          "base_uri": "https://localhost:8080/"
        },
        "id": "w7LS8EQquSNS",
        "outputId": "deac5580-ab2c-4416-d15d-d49a2a5685d4"
      },
      "execution_count": 6,
      "outputs": [
        {
          "output_type": "stream",
          "name": "stdout",
          "text": [
            "Mounted at /content/drive\n"
          ]
        }
      ]
    },
    {
      "cell_type": "code",
      "execution_count": null,
      "metadata": {
        "id": "qEPL7qdkaAoG"
      },
      "outputs": [],
      "source": [
        "#!python -m pip install --upgrade pip setuptools wheel && python -m pip install lbry-libtorrent wget torf && apt install python3-libtorrent\n",
        "!python -m pip install --upgrade pip setuptools wheel && python -m pip install libtorrent wget torf && apt install python3-libtorrent"
      ]
    },
    {
      "cell_type": "code",
      "source": [
        "import libtorrent as lt\n",
        "# 测试一下\n",
        "print(f\"成功导入 libtorrent 版本: {lt.version}\")"
      ],
      "metadata": {
        "id": "0g0EpxWdQX4P",
        "colab": {
          "base_uri": "https://localhost:8080/"
        },
        "outputId": "06c93b3d-8555-4036-a383-9c5e3260e303"
      },
      "execution_count": 4,
      "outputs": [
        {
          "output_type": "stream",
          "name": "stdout",
          "text": [
            "成功导入 libtorrent 版本: 2.0.11.0\n"
          ]
        }
      ]
    },
    {
      "cell_type": "markdown",
      "source": [
        "## 下载磁力链接"
      ],
      "metadata": {
        "id": "tNeOd3sR8Ubz"
      }
    },
    {
      "cell_type": "code",
      "source": [
        "import libtorrent as lt\n",
        "import time\n",
        "import sys\n",
        "\n",
        "# 创建一个 libtorrent 会话\n",
        "ses = lt.session({'listen_interfaces': '0.0.0.0:6881'})\n",
        "\n",
        "# 在这里输入您的磁力链接\n",
        "#magnet_link = \"magnet:?xt=urn:btih:...\"\n",
        "magnet_link = input(\"请输入您的磁力链接地址，并按回车键: \")\n",
        "\n",
        "# 设置下载参数\n",
        "params = lt.parse_magnet_uri(magnet_link)\n",
        "params.save_path = '/content/drive/Shareddrives/shareDrives/download'  # 设置文件保存路径\n",
        "h = ses.add_torrent(params)\n",
        "\n",
        "print(f\"开始下载: {h.name()}\")\n",
        "\n",
        "try:\n",
        "    while not h.status().is_seeding:\n",
        "        s = h.status()\n",
        "        state_str = [\n",
        "            '排队中', '检查文件中', '下载元数据中',\n",
        "            '下载中', '完成', '做种中', '分配空间',\n",
        "            '检查恢复数据'\n",
        "        ]\n",
        "\n",
        "        # 格式化进度输出\n",
        "        progress_bar = '[' + '#' * int(s.progress * 20) + '-' * (20 - int(s.progress * 20)) + ']'\n",
        "\n",
        "        print(\n",
        "            f\"\\r{state_str[s.state]} {s.progress * 100:.2f}% \"\n",
        "            f\"{progress_bar} \"\n",
        "            f\"下载速度: {s.download_rate / 1000:.1f} kB/s | \"\n",
        "            f\"上传速度: {s.upload_rate / 1000:.1f} kB/s | \"\n",
        "            f\"连接节点: {s.num_peers} \",\n",
        "            end=''\n",
        "        )\n",
        "\n",
        "        # 处理会话提醒\n",
        "        alerts = ses.pop_alerts()\n",
        "        for alert in alerts:\n",
        "            if isinstance(alert, lt.metadata_received_alert):\n",
        "                print(\"\\n元数据接收完成，开始下载文件...\")\n",
        "            # 您可以在此处添加更多提醒处理逻辑\n",
        "            # pass\n",
        "\n",
        "        sys.stdout.flush()\n",
        "        time.sleep(1)\n",
        "\n",
        "    # 下载完成判断\n",
        "    if h.status().is_seeding:\n",
        "        print(\"\\n下载完成！\")\n",
        "\n",
        "\n",
        "except KeyboardInterrupt:\n",
        "    print(\"\\n下载被中断。\")\n",
        "\n",
        "finally:\n",
        "    # 暂停会话并保存恢复数据\n",
        "    ses.pause()\n",
        "    print(\"\\n会话已暂停。\")"
      ],
      "metadata": {
        "colab": {
          "base_uri": "https://localhost:8080/"
        },
        "id": "qRm_PDJO8Ac5",
        "outputId": "012f2aec-2106-4dfc-fd60-5de58cbfae70"
      },
      "execution_count": 8,
      "outputs": [
        {
          "output_type": "stream",
          "name": "stdout",
          "text": [
            "请输入您的磁力链接地址，并按回车键: magnet:?xt=urn:btih:665B50D513A88B162129A208B57A1498215923A0&dn=Swiped+%282025%29+%5B720p%5D+%5BYTS.MX%5D&tr=udp%3A%2F%2Ftracker.opentrackr.org%3A1337%2Fannounce&tr=udp%3A%2F%2Fopen.tracker.cl%3A1337%2Fannounce&tr=udp%3A%2F%2Fp4p.arenabg.com%3A1337%2Fannounce&tr=udp%3A%2F%2Ftracker.torrent.eu.org%3A451%2Fannounce&tr=udp%3A%2F%2Ftracker.dler.org%3A6969%2Fannounce&tr=udp%3A%2F%2Fopen.stealth.si%3A80%2Fannounce&tr=udp%3A%2F%2Fipv4.tracker.harry.lu%3A80%2Fannounce&tr=https%3A%2F%2Fopentracker.i2p.rocks%3A443%2Fannounce\n",
            "开始下载: Swiped (2025) [720p] [YTS.MX]\n",
            "下载元数据中 0.00% [--------------------] 下载速度: 0.0 kB/s | 上传速度: 0.0 kB/s | 连接节点: 0 "
          ]
        },
        {
          "output_type": "stream",
          "name": "stderr",
          "text": [
            "/tmp/ipython-input-4193361127.py:17: DeprecationWarning: name() is deprecated\n",
            "  print(f\"开始下载: {h.name()}\")\n"
          ]
        },
        {
          "output_type": "stream",
          "name": "stdout",
          "text": [
            "下载中 99.99% [###################-] 下载速度: 2478.5 kB/s | 上传速度: 127.6 kB/s | 连接节点: 119 \n",
            "会话已暂停。\n"
          ]
        }
      ]
    },
    {
      "cell_type": "markdown",
      "metadata": {
        "id": "6sfsiTXEaN8_"
      },
      "source": [
        "### Download torrent"
      ]
    },
    {
      "cell_type": "code",
      "execution_count": null,
      "metadata": {
        "id": "KpXzNFTgaRPW"
      },
      "outputs": [],
      "source": [
        "import zipfile\n",
        "import os\n",
        "import libtorrent as lt\n",
        "import time\n",
        "import datetime\n",
        "import shutil\n",
        "\n",
        "params = {\n",
        "    'save_path': '/content/drive/Shareddrives/shareDrives/download',\n",
        "    'storage_mode': lt.storage_mode_t(2),\n",
        "}\n",
        "\n",
        "ses = lt.session()\n",
        "ses.listen_on(6881, 6891)\n",
        "link = input(\"Input Torrent file link or Magnet link and Press Enter: \")\n",
        "\n",
        "if link.endswith('.torrent'):\n",
        "    import wget\n",
        "    from torf import Torrent\n",
        "\n",
        "    if os.path.exists('torrent.torrent'):\n",
        "        os.remove('torrent.torrent')\n",
        "\n",
        "    wget.download(link, 'torrent.torrent')\n",
        "    t = Torrent.read('torrent.torrent')\n",
        "    link = str(t.magnet(name=True, size=False, trackers=False, tracker=False))\n",
        "\n",
        "\n",
        "print(link)\n",
        "handle = lt.add_magnet_uri(ses, link, params)\n",
        "# change the 0 to a 1 to download sequentially\n",
        "handle.set_sequential_download(0)\n",
        "ses.start_dht()\n",
        "begin = time.time()\n",
        "\n",
        "print(datetime.datetime.now())\n",
        "print('Downloading Metadata...')\n",
        "\n",
        "while not handle.has_metadata():\n",
        "    time.sleep(1)\n",
        "\n",
        "print('Got Metadata, Starting Torrent Download...')\n",
        "print(\"Starting\", handle.name())\n",
        "\n",
        "while handle.status().state != lt.torrent_status.seeding:\n",
        "    s = handle.status()\n",
        "    state_str = ['queued', 'checking', 'downloading metadata',\n",
        "                 'downloading', 'finished', 'seeding', 'allocating']\n",
        "    print('%.2f%% complete (down: %.1f kb/s up: %.1f kB/s peers: %d) %s ' %\n",
        "          (s.progress * 100, s.download_rate / 1000, s.upload_rate / 1000,\n",
        "           s.num_peers, state_str[s.state]))\n",
        "    time.sleep(5)\n",
        "\n",
        "end = time.time()\n",
        "print(handle.name(), \"COMPLETE\")\n",
        "print(\"Elapsed Time: \", int((end - begin) // 60), \"min :\", int((end - begin) % 60), \"sec\")\n",
        "print(datetime.datetime.now())"
      ]
    },
    {
      "cell_type": "markdown",
      "metadata": {
        "id": "1Y4ZMUbZpxuI"
      },
      "source": [
        "### Zip the files"
      ]
    },
    {
      "cell_type": "code",
      "execution_count": null,
      "metadata": {
        "id": "rO7n78AUpxuI"
      },
      "outputs": [],
      "source": [
        "print('Zipping started...')\n",
        "\n",
        "ziph = zipfile.ZipFile('Downloaded-Torrent.zip', 'w', zipfile.ZIP_DEFLATED)\n",
        "path = '/content/drive/Shareddrives/shareDrives/download'\n",
        "for root, dirs, files in os.walk(path):\n",
        "    for file in files:\n",
        "        ziph.write(os.path.join(root, file),\n",
        "                   os.path.relpath(os.path.join(root, file),\n",
        "                                   os.path.join(path, '..')))\n",
        "ziph.close()\n",
        "\n",
        "print('\\nALL DONE!')"
      ]
    }
  ],
  "metadata": {
    "colab": {
      "provenance": [],
      "collapsed_sections": [
        "6sfsiTXEaN8_",
        "1Y4ZMUbZpxuI"
      ],
      "include_colab_link": true
    },
    "kernelspec": {
      "display_name": "Python 3",
      "name": "python3"
    },
    "language_info": {
      "name": "python"
    }
  },
  "nbformat": 4,
  "nbformat_minor": 0
}